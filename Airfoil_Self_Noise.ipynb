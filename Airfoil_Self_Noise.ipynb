{
  "nbformat": 4,
  "nbformat_minor": 0,
  "metadata": {
    "colab": {
      "name": "Airfoil Self Noise.ipynb",
      "provenance": [],
      "collapsed_sections": [],
      "authorship_tag": "ABX9TyPLZ67wMB6FTT9vj7wt4SWi",
      "include_colab_link": true
    },
    "kernelspec": {
      "name": "python3",
      "display_name": "Python 3"
    }
  },
  "cells": [
    {
      "cell_type": "markdown",
      "metadata": {
        "id": "view-in-github",
        "colab_type": "text"
      },
      "source": [
        "<a href=\"https://colab.research.google.com/github/Aditya-Singla/Airfoil-Self-Noise/blob/master/Airfoil_Self_Noise.ipynb\" target=\"_parent\"><img src=\"https://colab.research.google.com/assets/colab-badge.svg\" alt=\"Open In Colab\"/></a>"
      ]
    },
    {
      "cell_type": "markdown",
      "metadata": {
        "id": "3X0sqfeT80MS",
        "colab_type": "text"
      },
      "source": [
        "**Importing Libraries**"
      ]
    },
    {
      "cell_type": "code",
      "metadata": {
        "id": "zk8qN_Q-0Rdi",
        "colab_type": "code",
        "colab": {}
      },
      "source": [
        "import pandas as pd"
      ],
      "execution_count": 0,
      "outputs": []
    },
    {
      "cell_type": "markdown",
      "metadata": {
        "id": "bRVsdAxi9Oyt",
        "colab_type": "text"
      },
      "source": [
        "**Importing the Dataset**"
      ]
    },
    {
      "cell_type": "code",
      "metadata": {
        "id": "UMTZGgsq0dOn",
        "colab_type": "code",
        "colab": {}
      },
      "source": [
        "dataset = pd.read_excel('airfoil_self_noise.xlsx')\n",
        "\n",
        "X = dataset.iloc[:,0:-1].values\n",
        "y = dataset.iloc[:,-1].values"
      ],
      "execution_count": 0,
      "outputs": []
    },
    {
      "cell_type": "markdown",
      "metadata": {
        "id": "_iezyDtB9aBD",
        "colab_type": "text"
      },
      "source": [
        "Checking the **independent variable**"
      ]
    },
    {
      "cell_type": "code",
      "metadata": {
        "id": "77yp_e2h0Izk",
        "colab_type": "code",
        "outputId": "7d696cd7-3bc7-4577-e752-2c98824dc4d9",
        "colab": {
          "base_uri": "https://localhost:8080/",
          "height": 134
        }
      },
      "source": [
        "print(X)"
      ],
      "execution_count": 3,
      "outputs": [
        {
          "output_type": "stream",
          "text": [
            "[[1.00000e+03 0.00000e+00 3.04800e-01 7.13000e+01 2.66337e-03]\n",
            " [1.25000e+03 0.00000e+00 3.04800e-01 7.13000e+01 2.66337e-03]\n",
            " [1.60000e+03 0.00000e+00 3.04800e-01 7.13000e+01 2.66337e-03]\n",
            " ...\n",
            " [4.00000e+03 1.56000e+01 1.01600e-01 3.96000e+01 5.28487e-02]\n",
            " [5.00000e+03 1.56000e+01 1.01600e-01 3.96000e+01 5.28487e-02]\n",
            " [6.30000e+03 1.56000e+01 1.01600e-01 3.96000e+01 5.28487e-02]]\n"
          ],
          "name": "stdout"
        }
      ]
    },
    {
      "cell_type": "markdown",
      "metadata": {
        "id": "5vt57R9J9keE",
        "colab_type": "text"
      },
      "source": [
        "Checking the **dependent variable**\n",
        "\n"
      ]
    },
    {
      "cell_type": "code",
      "metadata": {
        "id": "SUB3tpDI0JBT",
        "colab_type": "code",
        "outputId": "715a47c5-89ae-444f-bc34-6c32cf811fef",
        "colab": {
          "base_uri": "https://localhost:8080/",
          "height": 34
        }
      },
      "source": [
        "print(y)"
      ],
      "execution_count": 4,
      "outputs": [
        {
          "output_type": "stream",
          "text": [
            "[125.201 125.951 127.591 ... 106.604 106.224 104.204]\n"
          ],
          "name": "stdout"
        }
      ]
    },
    {
      "cell_type": "markdown",
      "metadata": {
        "id": "9JqSj5I8SE4c",
        "colab_type": "text"
      },
      "source": [
        "**No Missing Values** (*as specified by the source* https://archive.ics.uci.edu/ml/datasets/Airfoil+Self-Noise#)"
      ]
    },
    {
      "cell_type": "markdown",
      "metadata": {
        "id": "zyFzZSBD9qcl",
        "colab_type": "text"
      },
      "source": [
        "**Splitting the dataset into training set and test set**"
      ]
    },
    {
      "cell_type": "code",
      "metadata": {
        "id": "fJAYKBy45UdI",
        "colab_type": "code",
        "colab": {}
      },
      "source": [
        "from sklearn.model_selection import train_test_split\n",
        "x_train, x_test, y_train, y_test = train_test_split(X,y,test_size = 0.2, random_state = 0)\n",
        "\n"
      ],
      "execution_count": 0,
      "outputs": []
    },
    {
      "cell_type": "markdown",
      "metadata": {
        "id": "jQvv14wk9ylM",
        "colab_type": "text"
      },
      "source": [
        "Using **Linear Regression** "
      ]
    },
    {
      "cell_type": "code",
      "metadata": {
        "id": "s205pmMR6Dl7",
        "colab_type": "code",
        "outputId": "e0a39755-055e-4410-ba3b-396007afe9fa",
        "colab": {
          "base_uri": "https://localhost:8080/",
          "height": 34
        }
      },
      "source": [
        "from sklearn.linear_model import LinearRegression\n",
        "regressor_lr = LinearRegression()\n",
        "regressor_lr.fit(x_train,y_train)"
      ],
      "execution_count": 6,
      "outputs": [
        {
          "output_type": "execute_result",
          "data": {
            "text/plain": [
              "LinearRegression(copy_X=True, fit_intercept=True, n_jobs=None, normalize=False)"
            ]
          },
          "metadata": {
            "tags": []
          },
          "execution_count": 6
        }
      ]
    },
    {
      "cell_type": "markdown",
      "metadata": {
        "id": "1usFj-cjN53I",
        "colab_type": "text"
      },
      "source": [
        "Predicting using **Linear Regression**"
      ]
    },
    {
      "cell_type": "code",
      "metadata": {
        "id": "JORFZ8A-8SOH",
        "colab_type": "code",
        "colab": {}
      },
      "source": [
        "y_predict_lr = regressor_lr.predict(x_test)"
      ],
      "execution_count": 0,
      "outputs": []
    },
    {
      "cell_type": "markdown",
      "metadata": {
        "id": "NnygJxYvHT3e",
        "colab_type": "text"
      },
      "source": [
        "**Evaluation of Linear Regression using R^2**"
      ]
    },
    {
      "cell_type": "code",
      "metadata": {
        "id": "ybjWGsCJHclB",
        "colab_type": "code",
        "outputId": "d3b4f161-939a-4223-cfd7-dd9e1f0aeaed",
        "colab": {
          "base_uri": "https://localhost:8080/",
          "height": 34
        }
      },
      "source": [
        "from sklearn.metrics import r2_score\n",
        "r2_lr = r2_score(y_test,y_predict_lr)\n",
        "print(r2_lr)"
      ],
      "execution_count": 8,
      "outputs": [
        {
          "output_type": "stream",
          "text": [
            "0.48657611175423365\n"
          ],
          "name": "stdout"
        }
      ]
    },
    {
      "cell_type": "markdown",
      "metadata": {
        "id": "uOsCJXbzLK_P",
        "colab_type": "text"
      },
      "source": [
        "Evaluating using **K-fold Cross Validation**"
      ]
    },
    {
      "cell_type": "code",
      "metadata": {
        "id": "GXckteEiLRm7",
        "colab_type": "code",
        "outputId": "aa3ae02e-2b7f-4044-9d78-12bed5782d57",
        "colab": {
          "base_uri": "https://localhost:8080/",
          "height": 50
        }
      },
      "source": [
        "from sklearn.model_selection import cross_val_score\n",
        "accuracy_lr = cross_val_score(regressor_lr, x_train, y_train, cv=10)\n",
        "print ('Accuracy: {:.2f}%'.format(accuracy_lr.mean()*100))\n",
        "print ('Standard Deviation: {:.2f}%'.format(accuracy_lr.std()*100))"
      ],
      "execution_count": 9,
      "outputs": [
        {
          "output_type": "stream",
          "text": [
            "Accuracy: 50.67%\n",
            "Standard Deviation: 8.18%\n"
          ],
          "name": "stdout"
        }
      ]
    },
    {
      "cell_type": "markdown",
      "metadata": {
        "id": "zqp6ToDvJ7eG",
        "colab_type": "text"
      },
      "source": [
        "Using **Decision Tree Regression**"
      ]
    },
    {
      "cell_type": "code",
      "metadata": {
        "id": "Lkufn3m4LCL1",
        "colab_type": "code",
        "outputId": "e736b940-bf9c-4334-8fab-ca1c4ddfac08",
        "colab": {
          "base_uri": "https://localhost:8080/",
          "height": 118
        }
      },
      "source": [
        "from sklearn.tree import DecisionTreeRegressor\n",
        "regressor_dt = DecisionTreeRegressor(random_state = 0)\n",
        "regressor_dt.fit(x_train,y_train)"
      ],
      "execution_count": 10,
      "outputs": [
        {
          "output_type": "execute_result",
          "data": {
            "text/plain": [
              "DecisionTreeRegressor(ccp_alpha=0.0, criterion='mse', max_depth=None,\n",
              "                      max_features=None, max_leaf_nodes=None,\n",
              "                      min_impurity_decrease=0.0, min_impurity_split=None,\n",
              "                      min_samples_leaf=1, min_samples_split=2,\n",
              "                      min_weight_fraction_leaf=0.0, presort='deprecated',\n",
              "                      random_state=0, splitter='best')"
            ]
          },
          "metadata": {
            "tags": []
          },
          "execution_count": 10
        }
      ]
    },
    {
      "cell_type": "markdown",
      "metadata": {
        "id": "3Q31U5u4OADG",
        "colab_type": "text"
      },
      "source": [
        "Predicting using **Decision Tree Regression**"
      ]
    },
    {
      "cell_type": "code",
      "metadata": {
        "id": "Yp5VEh6kNKVY",
        "colab_type": "code",
        "colab": {}
      },
      "source": [
        "y_predict_dtr = regressor_dt.predict(x_test)"
      ],
      "execution_count": 0,
      "outputs": []
    },
    {
      "cell_type": "markdown",
      "metadata": {
        "id": "m41fRU9aM3Ap",
        "colab_type": "text"
      },
      "source": [
        "**Evaluation of Decision Tree Regression using R^2**"
      ]
    },
    {
      "cell_type": "code",
      "metadata": {
        "id": "ITNWcqpBMBpl",
        "colab_type": "code",
        "outputId": "2e265151-b748-4f11-bdce-41dc4665111c",
        "colab": {
          "base_uri": "https://localhost:8080/",
          "height": 34
        }
      },
      "source": [
        "r2_dtr = r2_score(y_test,y_predict_dtr)\n",
        "print(r2_dtr)"
      ],
      "execution_count": 12,
      "outputs": [
        {
          "output_type": "stream",
          "text": [
            "0.8615590053887587\n"
          ],
          "name": "stdout"
        }
      ]
    },
    {
      "cell_type": "markdown",
      "metadata": {
        "id": "3xZreJsBMkzx",
        "colab_type": "text"
      },
      "source": [
        "Evaluating using **K-fold Cross Validation**"
      ]
    },
    {
      "cell_type": "code",
      "metadata": {
        "id": "kbPqr7rOMlIn",
        "colab_type": "code",
        "outputId": "4f99b8a3-2900-48c3-9d85-f2dcc3da037b",
        "colab": {
          "base_uri": "https://localhost:8080/",
          "height": 50
        }
      },
      "source": [
        "accuracy_dt = cross_val_score(regressor_dt, x_train, y_train, cv=10)\n",
        "print ('Accuracy: {:.2f}%'.format(accuracy_dt.mean()*100))\n",
        "print ('Standard Deviation: {:.2f}%'.format(accuracy_dt.std()*100))"
      ],
      "execution_count": 13,
      "outputs": [
        {
          "output_type": "stream",
          "text": [
            "Accuracy: 84.80%\n",
            "Standard Deviation: 3.69%\n"
          ],
          "name": "stdout"
        }
      ]
    },
    {
      "cell_type": "markdown",
      "metadata": {
        "id": "jlOyUlwgOGKG",
        "colab_type": "text"
      },
      "source": [
        "Using **Random Forest Regression**"
      ]
    },
    {
      "cell_type": "code",
      "metadata": {
        "id": "6rqBm08kMB6Q",
        "colab_type": "code",
        "outputId": "0c152c1d-8457-4e9a-b7c7-61a31226831a",
        "colab": {
          "base_uri": "https://localhost:8080/",
          "height": 134
        }
      },
      "source": [
        "from sklearn.ensemble import RandomForestRegressor\n",
        "regressor_rf = RandomForestRegressor(n_estimators = 100, random_state = 0)\n",
        "regressor_rf.fit(x_train,y_train)\n"
      ],
      "execution_count": 14,
      "outputs": [
        {
          "output_type": "execute_result",
          "data": {
            "text/plain": [
              "RandomForestRegressor(bootstrap=True, ccp_alpha=0.0, criterion='mse',\n",
              "                      max_depth=None, max_features='auto', max_leaf_nodes=None,\n",
              "                      max_samples=None, min_impurity_decrease=0.0,\n",
              "                      min_impurity_split=None, min_samples_leaf=1,\n",
              "                      min_samples_split=2, min_weight_fraction_leaf=0.0,\n",
              "                      n_estimators=100, n_jobs=None, oob_score=False,\n",
              "                      random_state=0, verbose=0, warm_start=False)"
            ]
          },
          "metadata": {
            "tags": []
          },
          "execution_count": 14
        }
      ]
    },
    {
      "cell_type": "markdown",
      "metadata": {
        "id": "cEvnh1OgOLBc",
        "colab_type": "text"
      },
      "source": [
        "Predicting using **Random Forest Regression**"
      ]
    },
    {
      "cell_type": "code",
      "metadata": {
        "id": "m-iN6m3pNdmp",
        "colab_type": "code",
        "colab": {}
      },
      "source": [
        "y_predict_rfr = regressor_rf.predict(x_test)"
      ],
      "execution_count": 0,
      "outputs": []
    },
    {
      "cell_type": "markdown",
      "metadata": {
        "id": "nkXrJvOGOQ-6",
        "colab_type": "text"
      },
      "source": [
        "**Evaluation of Random Forest Regression using R^2**"
      ]
    },
    {
      "cell_type": "code",
      "metadata": {
        "id": "yHV27qKoNnc6",
        "colab_type": "code",
        "outputId": "688b598e-e8a4-470d-ed75-cd2c0b03d738",
        "colab": {
          "base_uri": "https://localhost:8080/",
          "height": 34
        }
      },
      "source": [
        "r2_rfr = r2_score(y_test,y_predict_rfr)\n",
        "print(r2_rfr)"
      ],
      "execution_count": 16,
      "outputs": [
        {
          "output_type": "stream",
          "text": [
            "0.9314870737195178\n"
          ],
          "name": "stdout"
        }
      ]
    },
    {
      "cell_type": "markdown",
      "metadata": {
        "id": "oYCUrhp7M4Ha",
        "colab_type": "text"
      },
      "source": [
        "Evaluating using **K-fold Cross Validation**"
      ]
    },
    {
      "cell_type": "code",
      "metadata": {
        "id": "WLPyYppFM5C0",
        "colab_type": "code",
        "outputId": "415b9e69-773e-4cea-ab29-1f694302eba9",
        "colab": {
          "base_uri": "https://localhost:8080/",
          "height": 50
        }
      },
      "source": [
        "accuracy_rf = cross_val_score(regressor_rf, x_train, y_train, cv=10)\n",
        "print ('Accuracy: {:.2f}%'.format(accuracy_rf.mean()*100))\n",
        "print ('Standard Deviation: {:.2f}%'.format(accuracy_rf.std()*100))"
      ],
      "execution_count": 17,
      "outputs": [
        {
          "output_type": "stream",
          "text": [
            "Accuracy: 92.54%\n",
            "Standard Deviation: 1.86%\n"
          ],
          "name": "stdout"
        }
      ]
    },
    {
      "cell_type": "markdown",
      "metadata": {
        "id": "iyPeuhMEPx4r",
        "colab_type": "text"
      },
      "source": [
        "Applying **Feature Scaling** (for **Support Vector Regression**)"
      ]
    },
    {
      "cell_type": "code",
      "metadata": {
        "id": "Alt_244sQIH_",
        "colab_type": "code",
        "colab": {}
      },
      "source": [
        "from sklearn.preprocessing import StandardScaler\n",
        "x_sc = StandardScaler()\n",
        "y_sc = StandardScaler()\n",
        "\n",
        "y_train = y_train.reshape(len(y_train),-1) # 2-D array for feature scaling of dependent variable\n",
        "\n",
        "x_train_sc = x_sc.fit_transform(x_train)\n",
        "y_train_sc = y_sc.fit_transform(y_train)"
      ],
      "execution_count": 0,
      "outputs": []
    },
    {
      "cell_type": "markdown",
      "metadata": {
        "id": "Iex5XO5pQbts",
        "colab_type": "text"
      },
      "source": [
        "Using **Support Vector Regression** (since *linear regression did not yield a good result and other non-linear models performed better, we would use kernel svm*)"
      ]
    },
    {
      "cell_type": "code",
      "metadata": {
        "id": "3HpHjL6sQ1au",
        "colab_type": "code",
        "outputId": "647cd5fb-6fcc-478e-be15-566a632a900c",
        "colab": {
          "base_uri": "https://localhost:8080/",
          "height": 104
        }
      },
      "source": [
        "from sklearn.svm import SVR\n",
        "regressor_svm = SVR(kernel = 'rbf')\n",
        "regressor_svm.fit(x_train_sc,y_train_sc)"
      ],
      "execution_count": 20,
      "outputs": [
        {
          "output_type": "stream",
          "text": [
            "/usr/local/lib/python3.6/dist-packages/sklearn/utils/validation.py:760: DataConversionWarning: A column-vector y was passed when a 1d array was expected. Please change the shape of y to (n_samples, ), for example using ravel().\n",
            "  y = column_or_1d(y, warn=True)\n"
          ],
          "name": "stderr"
        },
        {
          "output_type": "execute_result",
          "data": {
            "text/plain": [
              "SVR(C=1.0, cache_size=200, coef0=0.0, degree=3, epsilon=0.1, gamma='scale',\n",
              "    kernel='rbf', max_iter=-1, shrinking=True, tol=0.001, verbose=False)"
            ]
          },
          "metadata": {
            "tags": []
          },
          "execution_count": 20
        }
      ]
    },
    {
      "cell_type": "markdown",
      "metadata": {
        "id": "o4kDpGlkVNlh",
        "colab_type": "text"
      },
      "source": [
        "Predict using **Support Vector Regression**"
      ]
    },
    {
      "cell_type": "code",
      "metadata": {
        "id": "zvegNH6EVVxI",
        "colab_type": "code",
        "colab": {}
      },
      "source": [
        "y_predict_svr = y_sc.inverse_transform(regressor_svm.predict(x_sc.fit_transform(x_test)))"
      ],
      "execution_count": 0,
      "outputs": []
    },
    {
      "cell_type": "markdown",
      "metadata": {
        "id": "upAFsGq0Vyqr",
        "colab_type": "text"
      },
      "source": [
        "**Evaluation of Support Vector Regression using R^2**"
      ]
    },
    {
      "cell_type": "code",
      "metadata": {
        "id": "ZwdwhPqOV6TR",
        "colab_type": "code",
        "outputId": "78537b4f-e398-4bc0-8f4f-046cc955bf9c",
        "colab": {
          "base_uri": "https://localhost:8080/",
          "height": 34
        }
      },
      "source": [
        "r2_svr = r2_score(y_test,y_predict_svr)\n",
        "print(r2_svr)"
      ],
      "execution_count": 22,
      "outputs": [
        {
          "output_type": "stream",
          "text": [
            "0.7596576978813243\n"
          ],
          "name": "stdout"
        }
      ]
    },
    {
      "cell_type": "markdown",
      "metadata": {
        "id": "cRC_YtX8Pgia",
        "colab_type": "text"
      },
      "source": [
        "Evaluating using **K-fold Cross Validation**"
      ]
    },
    {
      "cell_type": "code",
      "metadata": {
        "id": "LO9gbQ2rPlCx",
        "colab_type": "code",
        "outputId": "8a0fb109-5eee-4a03-dbda-53e636a9223e",
        "colab": {
          "base_uri": "https://localhost:8080/",
          "height": 406
        }
      },
      "source": [
        "accuracy_svm = cross_val_score(regressor_svm, x_train_sc, y_train_sc, cv=10)\n",
        "print ('Accuracy: {:.2f}%'.format(accuracy_svm.mean()*100))\n",
        "print ('Standard Deviation: {:.2f}%'.format(accuracy_svm.std()*100))"
      ],
      "execution_count": 23,
      "outputs": [
        {
          "output_type": "stream",
          "text": [
            "/usr/local/lib/python3.6/dist-packages/sklearn/utils/validation.py:760: DataConversionWarning: A column-vector y was passed when a 1d array was expected. Please change the shape of y to (n_samples, ), for example using ravel().\n",
            "  y = column_or_1d(y, warn=True)\n",
            "/usr/local/lib/python3.6/dist-packages/sklearn/utils/validation.py:760: DataConversionWarning: A column-vector y was passed when a 1d array was expected. Please change the shape of y to (n_samples, ), for example using ravel().\n",
            "  y = column_or_1d(y, warn=True)\n",
            "/usr/local/lib/python3.6/dist-packages/sklearn/utils/validation.py:760: DataConversionWarning: A column-vector y was passed when a 1d array was expected. Please change the shape of y to (n_samples, ), for example using ravel().\n",
            "  y = column_or_1d(y, warn=True)\n",
            "/usr/local/lib/python3.6/dist-packages/sklearn/utils/validation.py:760: DataConversionWarning: A column-vector y was passed when a 1d array was expected. Please change the shape of y to (n_samples, ), for example using ravel().\n",
            "  y = column_or_1d(y, warn=True)\n",
            "/usr/local/lib/python3.6/dist-packages/sklearn/utils/validation.py:760: DataConversionWarning: A column-vector y was passed when a 1d array was expected. Please change the shape of y to (n_samples, ), for example using ravel().\n",
            "  y = column_or_1d(y, warn=True)\n",
            "/usr/local/lib/python3.6/dist-packages/sklearn/utils/validation.py:760: DataConversionWarning: A column-vector y was passed when a 1d array was expected. Please change the shape of y to (n_samples, ), for example using ravel().\n",
            "  y = column_or_1d(y, warn=True)\n",
            "/usr/local/lib/python3.6/dist-packages/sklearn/utils/validation.py:760: DataConversionWarning: A column-vector y was passed when a 1d array was expected. Please change the shape of y to (n_samples, ), for example using ravel().\n",
            "  y = column_or_1d(y, warn=True)\n",
            "/usr/local/lib/python3.6/dist-packages/sklearn/utils/validation.py:760: DataConversionWarning: A column-vector y was passed when a 1d array was expected. Please change the shape of y to (n_samples, ), for example using ravel().\n",
            "  y = column_or_1d(y, warn=True)\n"
          ],
          "name": "stderr"
        },
        {
          "output_type": "stream",
          "text": [
            "Accuracy: 77.15%\n",
            "Standard Deviation: 3.75%\n"
          ],
          "name": "stdout"
        },
        {
          "output_type": "stream",
          "text": [
            "/usr/local/lib/python3.6/dist-packages/sklearn/utils/validation.py:760: DataConversionWarning: A column-vector y was passed when a 1d array was expected. Please change the shape of y to (n_samples, ), for example using ravel().\n",
            "  y = column_or_1d(y, warn=True)\n",
            "/usr/local/lib/python3.6/dist-packages/sklearn/utils/validation.py:760: DataConversionWarning: A column-vector y was passed when a 1d array was expected. Please change the shape of y to (n_samples, ), for example using ravel().\n",
            "  y = column_or_1d(y, warn=True)\n"
          ],
          "name": "stderr"
        }
      ]
    },
    {
      "cell_type": "markdown",
      "metadata": {
        "id": "jeNUuVlFFG27",
        "colab_type": "text"
      },
      "source": [
        "Using **XGBoost Regressor** (using a tree-based approach as decision trees and random forests gave goood results) "
      ]
    },
    {
      "cell_type": "code",
      "metadata": {
        "id": "KK6YTj8zCl5U",
        "colab_type": "code",
        "colab": {
          "base_uri": "https://localhost:8080/",
          "height": 151
        },
        "outputId": "ffc71597-ca86-4430-de6b-ad3e1669859b"
      },
      "source": [
        "from xgboost import XGBRegressor\n",
        "regressor_xgb = XGBRegressor(booster='gbtree')\n",
        "regressor_xgb.fit(x_train_sc,y_train_sc)"
      ],
      "execution_count": 37,
      "outputs": [
        {
          "output_type": "stream",
          "text": [
            "[13:29:51] WARNING: /workspace/src/objective/regression_obj.cu:152: reg:linear is now deprecated in favor of reg:squarederror.\n"
          ],
          "name": "stdout"
        },
        {
          "output_type": "execute_result",
          "data": {
            "text/plain": [
              "XGBRegressor(base_score=0.5, booster='gbtree', colsample_bylevel=1,\n",
              "             colsample_bynode=1, colsample_bytree=1, gamma=0,\n",
              "             importance_type='gain', learning_rate=0.1, max_delta_step=0,\n",
              "             max_depth=3, min_child_weight=1, missing=None, n_estimators=100,\n",
              "             n_jobs=1, nthread=None, objective='reg:linear', random_state=0,\n",
              "             reg_alpha=0, reg_lambda=1, scale_pos_weight=1, seed=None,\n",
              "             silent=None, subsample=1, verbosity=1)"
            ]
          },
          "metadata": {
            "tags": []
          },
          "execution_count": 37
        }
      ]
    },
    {
      "cell_type": "markdown",
      "metadata": {
        "id": "BccLWtcECiCb",
        "colab_type": "text"
      },
      "source": [
        "Predicting using **XG Boost** "
      ]
    },
    {
      "cell_type": "code",
      "metadata": {
        "id": "1Ct56OzbFOrq",
        "colab_type": "code",
        "colab": {}
      },
      "source": [
        "y_predict_xgb = y_sc.inverse_transform(regressor_xgb.predict(x_sc.fit_transform(x_test)))"
      ],
      "execution_count": 0,
      "outputs": []
    },
    {
      "cell_type": "markdown",
      "metadata": {
        "id": "4eDusBOlGAOW",
        "colab_type": "text"
      },
      "source": [
        "**Evaluation of XGBoost using R^2**"
      ]
    },
    {
      "cell_type": "code",
      "metadata": {
        "id": "J5xunOE-GD2I",
        "colab_type": "code",
        "colab": {
          "base_uri": "https://localhost:8080/",
          "height": 34
        },
        "outputId": "78b41d44-fc18-4a99-a06d-a769ed52ecf7"
      },
      "source": [
        "r2_xgb = r2_score(y_test,y_predict_xgb)\n",
        "print(r2_xgb)"
      ],
      "execution_count": 34,
      "outputs": [
        {
          "output_type": "stream",
          "text": [
            "0.7858662790592736\n"
          ],
          "name": "stdout"
        }
      ]
    },
    {
      "cell_type": "markdown",
      "metadata": {
        "id": "sgzOEigoGUCX",
        "colab_type": "text"
      },
      "source": [
        "Evaluating using **K-fold Cross Validation**"
      ]
    },
    {
      "cell_type": "code",
      "metadata": {
        "id": "VAAsG8ZDGN3V",
        "colab_type": "code",
        "colab": {
          "base_uri": "https://localhost:8080/",
          "height": 218
        },
        "outputId": "b086a767-a3e9-4e18-c1df-6ac8090d9394"
      },
      "source": [
        "accuracy_xgb = cross_val_score(regressor_xgb, x_train_sc, y_train_sc, cv=10)\n",
        "print ('Accuracy: {:.2f}%'.format(accuracy_xgb.mean()*100))\n",
        "print ('Standard Deviation: {:.2f}%'.format(accuracy_xgb.std()*100))"
      ],
      "execution_count": 35,
      "outputs": [
        {
          "output_type": "stream",
          "text": [
            "[13:28:03] WARNING: /workspace/src/objective/regression_obj.cu:152: reg:linear is now deprecated in favor of reg:squarederror.\n",
            "[13:28:03] WARNING: /workspace/src/objective/regression_obj.cu:152: reg:linear is now deprecated in favor of reg:squarederror.\n",
            "[13:28:03] WARNING: /workspace/src/objective/regression_obj.cu:152: reg:linear is now deprecated in favor of reg:squarederror.\n",
            "[13:28:03] WARNING: /workspace/src/objective/regression_obj.cu:152: reg:linear is now deprecated in favor of reg:squarederror.\n",
            "[13:28:03] WARNING: /workspace/src/objective/regression_obj.cu:152: reg:linear is now deprecated in favor of reg:squarederror.\n",
            "[13:28:03] WARNING: /workspace/src/objective/regression_obj.cu:152: reg:linear is now deprecated in favor of reg:squarederror.\n",
            "[13:28:03] WARNING: /workspace/src/objective/regression_obj.cu:152: reg:linear is now deprecated in favor of reg:squarederror.\n",
            "[13:28:03] WARNING: /workspace/src/objective/regression_obj.cu:152: reg:linear is now deprecated in favor of reg:squarederror.\n",
            "[13:28:03] WARNING: /workspace/src/objective/regression_obj.cu:152: reg:linear is now deprecated in favor of reg:squarederror.\n",
            "[13:28:03] WARNING: /workspace/src/objective/regression_obj.cu:152: reg:linear is now deprecated in favor of reg:squarederror.\n",
            "Accuracy: 84.85%\n",
            "Standard Deviation: 2.65%\n"
          ],
          "name": "stdout"
        }
      ]
    },
    {
      "cell_type": "markdown",
      "metadata": {
        "id": "6WwIhjdjYeAi",
        "colab_type": "text"
      },
      "source": [
        "Based on the R-square test and K-fold cross validation score, we conclude that **Random Forest Regression** is the *best fitting model* and we could now tune it further."
      ]
    },
    {
      "cell_type": "markdown",
      "metadata": {
        "id": "AX7gq-upHulf",
        "colab_type": "text"
      },
      "source": [
        "**Tuning Random Forest Model**"
      ]
    },
    {
      "cell_type": "code",
      "metadata": {
        "id": "brFmM20kIA4n",
        "colab_type": "code",
        "colab": {
          "base_uri": "https://localhost:8080/",
          "height": 104
        },
        "outputId": "fca5b246-5904-453a-d84f-d6cece5e458d"
      },
      "source": [
        "from sklearn.model_selection import GridSearchCV\n",
        "parameters = [{'n_estimators':[50,75,100,125,150,175,200,225,250,275,300,325,350,375,400],'max_features':['auto','sqrt','log2'] ,'random_state': [0]}]\n",
        "\n",
        "grid_search = GridSearchCV(estimator = regressor_rf, param_grid = parameters, scoring = 'r2', cv = 10, n_jobs =-1)\n",
        "\n",
        "grid_search.fit(x_train, y_train)\n",
        "\n",
        "best_accuracy = grid_search.best_score_\n",
        "best_parameters = grid_search.best_params_\n",
        "print(\"Best Accuracy: {:.2f} %\".format(best_accuracy*100))\n",
        "print(\"Best Parameters:\", best_parameters)"
      ],
      "execution_count": 38,
      "outputs": [
        {
          "output_type": "stream",
          "text": [
            "/usr/local/lib/python3.6/dist-packages/sklearn/model_selection/_search.py:739: DataConversionWarning: A column-vector y was passed when a 1d array was expected. Please change the shape of y to (n_samples,), for example using ravel().\n",
            "  self.best_estimator_.fit(X, y, **fit_params)\n"
          ],
          "name": "stderr"
        },
        {
          "output_type": "stream",
          "text": [
            "Best Accuracy: 92.84 %\n",
            "Best Parameters: {'max_features': 'auto', 'n_estimators': 300, 'random_state': 0}\n"
          ],
          "name": "stdout"
        }
      ]
    },
    {
      "cell_type": "markdown",
      "metadata": {
        "id": "RaV1A0Q5bCg0",
        "colab_type": "text"
      },
      "source": [
        "Let me a bit more greedy with accuracy!"
      ]
    },
    {
      "cell_type": "code",
      "metadata": {
        "id": "R0cXtDYWIA_m",
        "colab_type": "code",
        "colab": {
          "base_uri": "https://localhost:8080/",
          "height": 104
        },
        "outputId": "6fa521b1-74e7-4b78-8e9d-beed5d97e04f"
      },
      "source": [
        "parameters_new = [{'n_estimators':[280,285,290,295,300,305,310,315,320],'max_features':['auto'] ,'random_state': [0]}]\n",
        "\n",
        "grid_search_new = GridSearchCV(estimator = regressor_rf, param_grid = parameters_new, scoring = 'r2', cv = 10, n_jobs =-1)\n",
        "\n",
        "grid_search_new.fit(x_train, y_train)\n",
        "\n",
        "best_accuracy_new = grid_search_new.best_score_\n",
        "best_parameters_new = grid_search_new.best_params_\n",
        "print(\"Best Accuracy: {:.2f} %\".format(best_accuracy_new*100))\n",
        "print(\"Best Parameters:\", best_parameters_new)"
      ],
      "execution_count": 40,
      "outputs": [
        {
          "output_type": "stream",
          "text": [
            "/usr/local/lib/python3.6/dist-packages/sklearn/model_selection/_search.py:739: DataConversionWarning: A column-vector y was passed when a 1d array was expected. Please change the shape of y to (n_samples,), for example using ravel().\n",
            "  self.best_estimator_.fit(X, y, **fit_params)\n"
          ],
          "name": "stderr"
        },
        {
          "output_type": "stream",
          "text": [
            "Best Accuracy: 92.84 %\n",
            "Best Parameters: {'max_features': 'auto', 'n_estimators': 300, 'random_state': 0}\n"
          ],
          "name": "stdout"
        }
      ]
    },
    {
      "cell_type": "markdown",
      "metadata": {
        "id": "DPL5lPDKcFkj",
        "colab_type": "text"
      },
      "source": [
        "Well, 300 estimators is what is best."
      ]
    },
    {
      "cell_type": "markdown",
      "metadata": {
        "id": "iTBXNX82Y2Hg",
        "colab_type": "text"
      },
      "source": [
        "**Just for fun!** (trying a neural network for first time, excuse my lack of knowledge and technical depth )"
      ]
    },
    {
      "cell_type": "code",
      "metadata": {
        "id": "UuRRUpEvY4ph",
        "colab_type": "code",
        "colab": {
          "base_uri": "https://localhost:8080/",
          "height": 205
        },
        "outputId": "c6866ceb-b029-478a-cbdb-4bcbcbef82e7"
      },
      "source": [
        "from sklearn.neural_network import MLPRegressor\n",
        "regressor_neural_network = MLPRegressor(random_state = 0)\n",
        "regressor_neural_network.fit(x_train_sc, y_train_sc)"
      ],
      "execution_count": 24,
      "outputs": [
        {
          "output_type": "stream",
          "text": [
            "/usr/local/lib/python3.6/dist-packages/sklearn/neural_network/_multilayer_perceptron.py:1342: DataConversionWarning: A column-vector y was passed when a 1d array was expected. Please change the shape of y to (n_samples, ), for example using ravel().\n",
            "  y = column_or_1d(y, warn=True)\n"
          ],
          "name": "stderr"
        },
        {
          "output_type": "execute_result",
          "data": {
            "text/plain": [
              "MLPRegressor(activation='relu', alpha=0.0001, batch_size='auto', beta_1=0.9,\n",
              "             beta_2=0.999, early_stopping=False, epsilon=1e-08,\n",
              "             hidden_layer_sizes=(100,), learning_rate='constant',\n",
              "             learning_rate_init=0.001, max_fun=15000, max_iter=200,\n",
              "             momentum=0.9, n_iter_no_change=10, nesterovs_momentum=True,\n",
              "             power_t=0.5, random_state=0, shuffle=True, solver='adam',\n",
              "             tol=0.0001, validation_fraction=0.1, verbose=False,\n",
              "             warm_start=False)"
            ]
          },
          "metadata": {
            "tags": []
          },
          "execution_count": 24
        }
      ]
    },
    {
      "cell_type": "code",
      "metadata": {
        "id": "ei1UsSZTaIso",
        "colab_type": "code",
        "colab": {}
      },
      "source": [
        "y_predict_neural_network = y_sc.inverse_transform(regressor_neural_network.predict(x_sc.fit_transform(x_test)))"
      ],
      "execution_count": 0,
      "outputs": []
    },
    {
      "cell_type": "code",
      "metadata": {
        "id": "dJCxVhsfar1S",
        "colab_type": "code",
        "colab": {
          "base_uri": "https://localhost:8080/",
          "height": 34
        },
        "outputId": "8644b68a-571b-41d6-e034-c916a0c3a0e2"
      },
      "source": [
        "r2_neural_network = r2_score(y_test,y_predict_neural_network)\n",
        "print(r2_neural_network)"
      ],
      "execution_count": 26,
      "outputs": [
        {
          "output_type": "stream",
          "text": [
            "0.6910931349017078\n"
          ],
          "name": "stdout"
        }
      ]
    }
  ]
}